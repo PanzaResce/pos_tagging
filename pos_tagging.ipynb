{
 "cells": [
  {
   "cell_type": "code",
   "execution_count": 2,
   "metadata": {},
   "outputs": [
    {
     "name": "stderr",
     "output_type": "stream",
     "text": [
      "c:\\Users\\marco\\anaconda3\\lib\\site-packages\\scipy\\__init__.py:146: UserWarning: A NumPy version >=1.16.5 and <1.23.0 is required for this version of SciPy (detected version 1.26.2\n",
      "  warnings.warn(f\"A NumPy version >={np_minversion} and <{np_maxversion}\"\n"
     ]
    }
   ],
   "source": [
    "import pandas as pd\n",
    "from sklearn.metrics import f1_score, classification_report, confusion_matrix, precision_recall_curve, PrecisionRecallDisplay\n",
    "import numpy as np\n",
    "from pathlib import Path\n",
    "import gensim\n",
    "import torch\n",
    "import gensim.downloader as gloader\n",
    "import numpy as np\n",
    "import torch.nn as nn\n",
    "import torch.nn.functional as F\n",
    "import time\n",
    "from torch.utils.data import Dataset, DataLoader\n",
    "import matplotlib.pyplot as plt"
   ]
  },
  {
   "cell_type": "code",
   "execution_count": null,
   "metadata": {},
   "outputs": [],
   "source": [
    "print(f\"Current work directory: {Path.cwd()}\")\n",
    "dataset_folder = Path.cwd().joinpath(\"dependency_treebank\")"
   ]
  },
  {
   "cell_type": "markdown",
   "metadata": {},
   "source": [
    "### Splits\n",
    "\n",
    "The corpus contains 200 documents.\n",
    "\n",
    "   * **Train**: Documents 1-100\n",
    "   * **Validation**: Documents 101-150\n",
    "   * **Test**: Documents 151-199"
   ]
  },
  {
   "cell_type": "code",
   "execution_count": 4,
   "metadata": {},
   "outputs": [],
   "source": [
    "data = []\n",
    "\n",
    "for file_path in dataset_folder.glob('*.dp'):            \n",
    "    with file_path.open(mode='r', encoding='utf-8') as text:\n",
    "        lines = text.read().split('\\n')\n",
    "        words = []\n",
    "        tags = []\n",
    "        for line in lines:\n",
    "            parts = line.split()\n",
    "            if len(parts) == 3:\n",
    "                word, tag, _ = parts\n",
    "                words.append(word)\n",
    "                tags.append(tag)\n",
    "        data.append([(words, tags)])\n",
    "\n",
    "\n",
    "df = pd.DataFrame(data, columns=['doc'])"
   ]
  },
  {
   "cell_type": "code",
   "execution_count": 5,
   "metadata": {},
   "outputs": [
    {
     "data": {
      "text/html": [
       "<div>\n",
       "<style scoped>\n",
       "    .dataframe tbody tr th:only-of-type {\n",
       "        vertical-align: middle;\n",
       "    }\n",
       "\n",
       "    .dataframe tbody tr th {\n",
       "        vertical-align: top;\n",
       "    }\n",
       "\n",
       "    .dataframe thead th {\n",
       "        text-align: right;\n",
       "    }\n",
       "</style>\n",
       "<table border=\"1\" class=\"dataframe\">\n",
       "  <thead>\n",
       "    <tr style=\"text-align: right;\">\n",
       "      <th></th>\n",
       "      <th>doc</th>\n",
       "    </tr>\n",
       "  </thead>\n",
       "  <tbody>\n",
       "    <tr>\n",
       "      <th>0</th>\n",
       "      <td>([Pierre, Vinken, ,, 61, years, old, ,, will, ...</td>\n",
       "    </tr>\n",
       "    <tr>\n",
       "      <th>1</th>\n",
       "      <td>([Rudolph, Agnew, ,, 55, years, old, and, form...</td>\n",
       "    </tr>\n",
       "    <tr>\n",
       "      <th>2</th>\n",
       "      <td>([A, form, of, asbestos, once, used, to, make,...</td>\n",
       "    </tr>\n",
       "    <tr>\n",
       "      <th>3</th>\n",
       "      <td>([Yields, on, money-market, mutual, funds, con...</td>\n",
       "    </tr>\n",
       "    <tr>\n",
       "      <th>4</th>\n",
       "      <td>([J.P., Bolduc, ,, vice, chairman, of, W.R., G...</td>\n",
       "    </tr>\n",
       "    <tr>\n",
       "      <th>5</th>\n",
       "      <td>([Pacific, First, Financial, Corp., said, shar...</td>\n",
       "    </tr>\n",
       "    <tr>\n",
       "      <th>6</th>\n",
       "      <td>([McDermott, International, Inc., said, its, B...</td>\n",
       "    </tr>\n",
       "    <tr>\n",
       "      <th>7</th>\n",
       "      <td>([The, federal, government, suspended, sales, ...</td>\n",
       "    </tr>\n",
       "    <tr>\n",
       "      <th>8</th>\n",
       "      <td>([Clark, J., Vitulli, was, named, senior, vice...</td>\n",
       "    </tr>\n",
       "    <tr>\n",
       "      <th>9</th>\n",
       "      <td>([When, it, 's, time, for, their, biannual, po...</td>\n",
       "    </tr>\n",
       "  </tbody>\n",
       "</table>\n",
       "</div>"
      ],
      "text/plain": [
       "                                                 doc\n",
       "0  ([Pierre, Vinken, ,, 61, years, old, ,, will, ...\n",
       "1  ([Rudolph, Agnew, ,, 55, years, old, and, form...\n",
       "2  ([A, form, of, asbestos, once, used, to, make,...\n",
       "3  ([Yields, on, money-market, mutual, funds, con...\n",
       "4  ([J.P., Bolduc, ,, vice, chairman, of, W.R., G...\n",
       "5  ([Pacific, First, Financial, Corp., said, shar...\n",
       "6  ([McDermott, International, Inc., said, its, B...\n",
       "7  ([The, federal, government, suspended, sales, ...\n",
       "8  ([Clark, J., Vitulli, was, named, senior, vice...\n",
       "9  ([When, it, 's, time, for, their, biannual, po..."
      ]
     },
     "execution_count": 5,
     "metadata": {},
     "output_type": "execute_result"
    }
   ],
   "source": [
    "df.head(10)"
   ]
  },
  {
   "cell_type": "code",
   "execution_count": 6,
   "metadata": {},
   "outputs": [],
   "source": [
    "from collections import OrderedDict\n",
    "\n",
    "# Build vocabulary\n",
    "def build_vocabulary(df: pd.DataFrame):\n",
    "    word_to_idx = OrderedDict()\n",
    "    tag_to_idx = OrderedDict()\n",
    "    \n",
    "    word_idx = 0\n",
    "    tag_idx = 0\n",
    "\n",
    "    for doc in df.doc.values:\n",
    "        tokens = doc[0]\n",
    "        tags = doc[1]\n",
    "        for token in tokens:\n",
    "            if token not in word_to_idx:\n",
    "                word_to_idx[token] = word_idx\n",
    "                word_idx += 1\n",
    "        for tag in tags:\n",
    "            if tag not in tag_to_idx:\n",
    "                tag_to_idx[tag] = tag_idx\n",
    "                tag_idx +=1\n",
    "\n",
    "    # Add [UNK] token for OOV words\n",
    "    word_to_idx[\"[UNK]\"] = word_idx\n",
    "\n",
    "    return word_to_idx, tag_to_idx"
   ]
  },
  {
   "cell_type": "code",
   "execution_count": 7,
   "metadata": {},
   "outputs": [
    {
     "name": "stdout",
     "output_type": "stream",
     "text": [
      "Training set shape: 100\n",
      "Validation set shape: 50\n",
      "Test set shape: 49\n"
     ]
    }
   ],
   "source": [
    "# Split the data into training, validation, and test sets\n",
    "train_split = df[0:100]\n",
    "val_split = df[100:150].reset_index(drop=True)\n",
    "test_split = df[150:199].reset_index(drop=True)\n",
    "\n",
    "# Display the shapes of the sets\n",
    "print(\"Training set shape:\", len(train_split))\n",
    "print(\"Validation set shape:\", len(val_split))\n",
    "print(\"Test set shape:\", len(test_split))"
   ]
  },
  {
   "cell_type": "code",
   "execution_count": 8,
   "metadata": {},
   "outputs": [
    {
     "name": "stdout",
     "output_type": "stream",
     "text": [
      "Global vocabulary -> Tags size: 45\n",
      "Global vocabulary -> Index vocabulary size: 11969\n",
      "Training vocabulary-> Tags size: 45\n",
      "Training vocabulary -> Index vocabulary size: 8010\n"
     ]
    }
   ],
   "source": [
    "# Build vocabulary and tags, word-to-index format\n",
    "global_vocab, global_tags = build_vocabulary(df)\n",
    "train_vocab, train_tags = build_vocabulary(train_split)\n",
    "\n",
    "print(f'Global vocabulary -> Tags size: {len(global_tags)}')\n",
    "print(f'Global vocabulary -> Index vocabulary size: {len(global_vocab)}')\n",
    "\n",
    "print(f'Training vocabulary-> Tags size: {len(train_tags)}')\n",
    "print(f'Training vocabulary -> Index vocabulary size: {len(train_vocab)}')"
   ]
  },
  {
   "cell_type": "code",
   "execution_count": 9,
   "metadata": {},
   "outputs": [
    {
     "data": {
      "text/plain": [
       "OrderedDict([(',', 1),\n",
       "             ('.', 10),\n",
       "             ('``', 26),\n",
       "             (\"''\", 28),\n",
       "             (':', 30),\n",
       "             ('$', 33),\n",
       "             ('-LRB-', 36),\n",
       "             ('-RRB-', 37),\n",
       "             ('#', 44)])"
      ]
     },
     "execution_count": 9,
     "metadata": {},
     "output_type": "execute_result"
    }
   ],
   "source": [
    "excluded_tags = OrderedDict(filter(lambda i: i[0] in [',', '.', '``', '\\'\\'', ':', '$', '-LRB-', '-RRB-', '#'], global_tags.items()))\n",
    "excluded_tags"
   ]
  },
  {
   "cell_type": "markdown",
   "metadata": {},
   "source": [
    "To train a neural POS tagger, you first need to encode text into numerical format.\n",
    "\n",
    "Words are embedded using **GloVe embeddings**."
   ]
  },
  {
   "cell_type": "code",
   "execution_count": 10,
   "metadata": {},
   "outputs": [],
   "source": [
    "emb_model = gloader.load(\"glove-wiki-gigaword-100\")"
   ]
  },
  {
   "cell_type": "code",
   "execution_count": 11,
   "metadata": {},
   "outputs": [
    {
     "name": "stdout",
     "output_type": "stream",
     "text": [
      "Total OOV terms: 3746 (31.30%)\n"
     ]
    }
   ],
   "source": [
    "def get_OOV_terms(embedding_model: gensim.models.keyedvectors.KeyedVectors,\n",
    "                  word_to_idx):\n",
    "    embedding_vocabulary = set(embedding_model.key_to_index.keys())\n",
    "    oov = set(word_to_idx.keys()).difference(embedding_vocabulary)\n",
    "    return list(oov)\n",
    "\n",
    "oov_terms = get_OOV_terms(emb_model, global_vocab)\n",
    "oov_percentage = float(len(oov_terms)) * 100 / len(set(global_vocab.keys()))\n",
    "print(f\"Total OOV terms: {len(oov_terms)} ({oov_percentage:.2f}%)\")"
   ]
  },
  {
   "cell_type": "code",
   "execution_count": 12,
   "metadata": {},
   "outputs": [],
   "source": [
    "def embed_word(word, train_vocab, embedding_model, embedding_dimension):\n",
    "    try:\n",
    "        return torch.squeeze(torch.tensor(embedding_model[word]))\n",
    "    except (KeyError):\n",
    "        # Except catch embeddings not present in Glove\n",
    "        if word in train_vocab.keys() and word != \"[UNK]\":\n",
    "            # OOV embedding for training set, in the training set we should have an embedding for oov words\n",
    "            return torch.tensor(np.random.uniform(low=-0.05, high=0.05, size=embedding_dimension), dtype=torch.float32)\n",
    "        else:\n",
    "            if word == \"[UNK]\":\n",
    "                return torch.zeros(embedding_dimension)\n",
    "\n",
    "def build_embedding_matrix(global_vocab, train_vocab, embedding_model, embedding_dimension):\n",
    "    '''\n",
    "        I am also building the final vocabulary with the words in the dataset minus the OOV in test/validation\n",
    "        The OOV of the training are instead kept with a specific embedding\n",
    "    '''\n",
    "    t = []\n",
    "    vocab = OrderedDict()\n",
    "    idx = 0\n",
    "\n",
    "    for w in global_vocab:\n",
    "        e = embed_word(w, train_vocab, embedding_model, embedding_dimension)\n",
    "        if e is not None:\n",
    "            vocab[w] = idx\n",
    "            idx +=1\n",
    "            t.append(e)\n",
    "    return torch.stack(t), vocab"
   ]
  },
  {
   "cell_type": "code",
   "execution_count": 13,
   "metadata": {},
   "outputs": [],
   "source": [
    "# Define embedding matrix\n",
    "train_emb_matrix, final_vocab = build_embedding_matrix(global_vocab, train_vocab, emb_model, 100)"
   ]
  },
  {
   "cell_type": "code",
   "execution_count": 14,
   "metadata": {},
   "outputs": [
    {
     "data": {
      "text/plain": [
       "tensor(True)"
      ]
     },
     "execution_count": 14,
     "metadata": {},
     "output_type": "execute_result"
    }
   ],
   "source": [
    "# Sanity check\n",
    "torch.all(torch.eq(torch.tensor(emb_model[\"major\"]), train_emb_matrix[final_vocab[\"major\"]])) and torch.all(torch.eq(torch.tensor(emb_model[\"street\"]), train_emb_matrix[final_vocab[\"street\"]]))"
   ]
  },
  {
   "cell_type": "code",
   "execution_count": 15,
   "metadata": {},
   "outputs": [
    {
     "data": {
      "text/plain": [
       "torch.Size([10570, 100])"
      ]
     },
     "execution_count": 15,
     "metadata": {},
     "output_type": "execute_result"
    }
   ],
   "source": [
    "train_emb_matrix.size()"
   ]
  },
  {
   "cell_type": "code",
   "execution_count": 16,
   "metadata": {},
   "outputs": [
    {
     "name": "stdout",
     "output_type": "stream",
     "text": [
      "tensor([-0.3244,  0.8465, -0.5692, -0.3774,  1.0488, -1.0676, -0.3345,  0.0499,\n",
      "         0.7326,  0.2384,  1.2318,  0.0164,  0.9287, -0.5538,  0.6091, -0.7560,\n",
      "        -0.3821,  0.8602, -0.1405, -0.0408,  0.2743, -0.0973,  1.1942,  0.1475,\n",
      "        -0.3266, -0.1162, -0.2708,  0.8588, -0.2909,  0.8833,  0.8562,  0.5291,\n",
      "        -0.2573,  0.3494,  0.9375,  0.8830, -0.2655, -0.5822,  0.2148, -0.0814,\n",
      "         0.4326, -0.8328, -0.3314,  0.3622,  0.4342,  0.3715,  0.1212, -0.1988,\n",
      "         0.0865,  1.1287, -0.0488,  0.5335, -0.3382,  0.8388,  0.1526, -1.4057,\n",
      "         0.4374, -0.5224,  1.1454,  0.8335, -0.8808,  0.1059,  0.1660,  0.4363,\n",
      "         0.1849,  0.4419, -0.1773, -0.4333,  0.2662, -0.5618, -0.3018,  0.1875,\n",
      "         0.6955, -0.5731,  0.0376, -0.2253,  0.6259,  0.9278,  0.4875, -0.7836,\n",
      "         0.1306, -0.6360, -0.2503,  0.9517, -0.8151,  0.2434,  0.0183,  0.0615,\n",
      "         0.3020, -0.0655,  0.0866,  0.4295, -0.4348,  0.2115, -0.1157, -0.1821,\n",
      "        -0.8717, -0.0289,  1.4115,  0.2803])\n",
      "tensor([0., 0., 0., 0., 0., 0., 0., 0., 0., 0., 0., 0., 0., 0., 0., 0., 0., 0., 0., 0., 0., 0., 0., 0.,\n",
      "        0., 0., 0., 0., 0., 0., 0., 0., 0., 0., 0., 0., 0., 0., 0., 0., 0., 0., 0., 0., 0., 0., 0., 0.,\n",
      "        0., 0., 0., 0., 0., 0., 0., 0., 0., 0., 0., 0., 0., 0., 0., 0., 0., 0., 0., 0., 0., 0., 0., 0.,\n",
      "        0., 0., 0., 0., 0., 0., 0., 0., 0., 0., 0., 0., 0., 0., 0., 0., 0., 0., 0., 0., 0., 0., 0., 0.,\n",
      "        0., 0., 0., 0.])\n"
     ]
    }
   ],
   "source": [
    "print(train_emb_matrix[-2])\n",
    "print(train_emb_matrix[-1])"
   ]
  },
  {
   "cell_type": "markdown",
   "metadata": {},
   "source": [
    "# Model definition\n",
    "\n",
    "Define a neural POS tagger.\n",
    "\n",
    "### Models\n",
    "\n",
    "* **Baseline**: Bidirectional LSTM with a Dense layer on top.\n",
    "\n",
    "* **Model 1**: additional LSTM layer to the Baseline model.\n",
    "* **Model 2**: additional Dense layer to the Baseline model."
   ]
  },
  {
   "cell_type": "code",
   "execution_count": 17,
   "metadata": {},
   "outputs": [],
   "source": [
    "def count_parameters(model):\n",
    "    return sum(p.numel() for p in model.parameters() if p.requires_grad)"
   ]
  },
  {
   "cell_type": "code",
   "execution_count": 18,
   "metadata": {},
   "outputs": [],
   "source": [
    "# Retrieve index from word\n",
    "def word_to_idx_conv(sentence, to_idx):\n",
    "    idxs = []\n",
    "    for w in sentence:\n",
    "        try:\n",
    "            idxs.append(to_idx[w[0]])\n",
    "        except(KeyError):\n",
    "            # Redirect to [UNK], which is always the last of the vocabulary\n",
    "            idxs.append(len(to_idx)-1)\n",
    "    return torch.tensor(idxs, dtype=torch.long)\n",
    "\n",
    "def tag_to_idx_conv(tags, to_ix):\n",
    "    idxs = []\n",
    "    for w in tags:      \n",
    "        idxs.append(to_ix[w[0]])\n",
    "    return torch.tensor(idxs, dtype=torch.long)\n",
    "\n",
    "# Retrieve tag from index\n",
    "def idx_to_tag_conv(idxs, tag_vocab):\n",
    "    tags = []\n",
    "    vocab = list(tag_vocab.items())\n",
    "    for i in idxs:\n",
    "        tags.append(vocab[i][0])\n",
    "    return tags"
   ]
  },
  {
   "cell_type": "code",
   "execution_count": 19,
   "metadata": {},
   "outputs": [
    {
     "name": "stdout",
     "output_type": "stream",
     "text": [
      "Device: cuda\n"
     ]
    }
   ],
   "source": [
    "device = torch.device('cuda' if torch.cuda.is_available() else 'cpu')\n",
    "print('Device: %s' % device)"
   ]
  },
  {
   "cell_type": "code",
   "execution_count": 20,
   "metadata": {},
   "outputs": [],
   "source": [
    "class Baseline(nn.Module):\n",
    "    def __init__(self, embedding_dim, vocab_size, tagset_size, freeze=False):\n",
    "        super().__init__()\n",
    "\n",
    "        self.embedding = nn.Embedding(vocab_size, embedding_dim, padding_idx=vocab_size-1, _freeze=freeze)\n",
    "        self.lstm1 = nn.LSTM(embedding_dim, embedding_dim, bidirectional=True)\n",
    "        self.dense1 = nn.Linear(2*embedding_dim, tagset_size)\n",
    "\n",
    "    def forward(self, sentence):\n",
    "        \n",
    "        embedded = self.embedding(sentence)\n",
    "        lstm_out, _ = self.lstm1(embedded)\n",
    "        tag_space = self.dense1(lstm_out)\n",
    "        return tag_space"
   ]
  },
  {
   "cell_type": "code",
   "execution_count": 21,
   "metadata": {},
   "outputs": [],
   "source": [
    "class Model1(Baseline):\n",
    "    def __init__(self, embedding_dim, vocab_size, tagset_size, freeze):\n",
    "        super().__init__(embedding_dim, vocab_size, tagset_size, freeze)\n",
    "    \n",
    "        self.lstm1 = nn.LSTM(embedding_dim, embedding_dim, 2, bidirectional=True)"
   ]
  },
  {
   "cell_type": "code",
   "execution_count": 22,
   "metadata": {},
   "outputs": [],
   "source": [
    "class Model2(Baseline):\n",
    "    def __init__(self, embedding_dim, vocab_size, tagset_size, freeze):\n",
    "        super().__init__(embedding_dim, vocab_size, tagset_size, freeze)\n",
    "        \n",
    "        self.dense1 = nn.Linear(2*embedding_dim, 2*embedding_dim)\n",
    "        self.dense2 = nn.Linear(2*embedding_dim, tagset_size)\n",
    "    def forward(self, sentence):\n",
    "        \n",
    "        embedded = self.embedding(sentence)\n",
    "        lstm1_out, _ = self.lstm1(embedded)\n",
    "        dense1 = self.dense1(lstm1_out)\n",
    "        tag_space = self.dense2(dense1)\n",
    "        return tag_space"
   ]
  },
  {
   "cell_type": "code",
   "execution_count": 23,
   "metadata": {},
   "outputs": [],
   "source": [
    "def define_models(emb_matrix, tags, device, freeze):\n",
    "    baseline = Baseline(100, len(emb_matrix), len(tags), freeze).to(device)\n",
    "    model1 = Model1(100, len(emb_matrix), len(tags), freeze).to(device)\n",
    "    model2 = Model2(100, len(emb_matrix), len(tags), freeze).to(device)\n",
    "    models = (baseline, model1, model2)\n",
    "    for m in models:\n",
    "        print(f'The {type(m).__name__} model has {count_parameters(m):,} trainable parameters')\n",
    "    \n",
    "    return models"
   ]
  },
  {
   "cell_type": "code",
   "execution_count": 24,
   "metadata": {},
   "outputs": [
    {
     "name": "stdout",
     "output_type": "stream",
     "text": [
      "The Baseline model has 1,227,645 trainable parameters\n",
      "The Model1 model has 1,469,245 trainable parameters\n",
      "The Model2 model has 1,267,845 trainable parameters\n"
     ]
    }
   ],
   "source": [
    "baseline, model1, model2 = define_models(train_emb_matrix, global_tags, device, freeze=False)"
   ]
  },
  {
   "cell_type": "code",
   "execution_count": 25,
   "metadata": {},
   "outputs": [],
   "source": [
    "loss_function = nn.CrossEntropyLoss().to(device)"
   ]
  },
  {
   "cell_type": "code",
   "execution_count": 26,
   "metadata": {},
   "outputs": [],
   "source": [
    "class CustomDocDataset(Dataset):\n",
    "    def __init__(self, dataframe, excluded_tags):\n",
    "        self.data = dataframe.doc\n",
    "        \n",
    "        self.tags_freq = {}\n",
    "        for d in self.data:\n",
    "            tags = d[1]\n",
    "            for t in tags:\n",
    "                try:\n",
    "                    self.tags_freq[t] +=1\n",
    "                except (KeyError):\n",
    "                    self.tags_freq[t] = 1\n",
    "\n",
    "    def __len__(self):\n",
    "        return len(self.data)\n",
    "\n",
    "    def __getitem__(self, idx):\n",
    "        words = self.data[idx][0]\n",
    "        tags = self.data[idx][1]\n",
    "        return words, tags\n",
    "    \n",
    "    def get_tags_frequencies(self, exclude_punct=False, low_to_high=False):\n",
    "        if exclude_punct:\n",
    "            return {k:v for k, v in sorted(self.tags_freq.items(), key=lambda i:i[1], reverse=not low_to_high) if k not in excluded_tags}\n",
    "        else:\n",
    "            return {k:v for k, v in sorted(self.tags_freq.items(), key=lambda i:i[1], reverse=not low_to_high)}\n",
    "\n",
    "\n",
    "train_data = CustomDocDataset(train_split, excluded_tags)\n",
    "val_data = CustomDocDataset(val_split, excluded_tags)\n",
    "test_data = CustomDocDataset(test_split, excluded_tags)\n",
    "\n",
    "train_loader = DataLoader(train_data, batch_size=1, shuffle=True)\n",
    "val_loader = DataLoader(val_data, batch_size=1, shuffle=False)\n",
    "test_loader = DataLoader(test_data, batch_size=1, shuffle=True)"
   ]
  },
  {
   "cell_type": "code",
   "execution_count": 28,
   "metadata": {},
   "outputs": [
    {
     "data": {
      "text/plain": [
       "0     ([Pierre, Vinken, ,, 61, years, old, ,, will, ...\n",
       "1     ([Rudolph, Agnew, ,, 55, years, old, and, form...\n",
       "2     ([A, form, of, asbestos, once, used, to, make,...\n",
       "3     ([Yields, on, money-market, mutual, funds, con...\n",
       "4     ([J.P., Bolduc, ,, vice, chairman, of, W.R., G...\n",
       "                            ...                        \n",
       "95    ([The, National, Association, of, Securities, ...\n",
       "96    ([Program, traders, are, fond, of, predicting,...\n",
       "97    ([The, House, voted, to, boost, the, federal, ...\n",
       "98    ([Zenith, Data, Systems, Corp., ,, a, subsidia...\n",
       "99    ([For, six, years, ,, T., Marshall, Hahn, Jr.,...\n",
       "Name: doc, Length: 100, dtype: object"
      ]
     },
     "execution_count": 28,
     "metadata": {},
     "output_type": "execute_result"
    }
   ],
   "source": [
    "train_split.doc"
   ]
  },
  {
   "cell_type": "markdown",
   "metadata": {},
   "source": [
    "# Metrics\n",
    "\n",
    "* Model evaluated using macro F1-score, computed over **all** tokens.\n",
    "* **Puncutation and symbol classes are not considered** $\\rightarrow$ [What is punctuation?](https://en.wikipedia.org/wiki/English_punctuation)"
   ]
  },
  {
   "cell_type": "code",
   "execution_count": 26,
   "metadata": {},
   "outputs": [],
   "source": [
    "def categorical_accuracy(preds, gt, tag_pad_idx):\n",
    "    max_preds = preds.argmax(dim = 1, keepdim = True)\n",
    "    # some tags are excluded from the metric (punctuation, symbols, ..)\n",
    "    non_pad_elements = gt[torch.tensor([v not in list(tag_pad_idx.values()) for v in gt])].nonzero()\n",
    "    correct = max_preds[non_pad_elements].squeeze(1).eq(gt[non_pad_elements])\n",
    "    return correct.sum() / gt[non_pad_elements].shape[0]"
   ]
  },
  {
   "cell_type": "code",
   "execution_count": 27,
   "metadata": {},
   "outputs": [],
   "source": [
    "def macro_f1(preds, targets, excluded_tags={}):    \n",
    "    if len(preds) == len(targets):\n",
    "        preds = np.asarray(preds)\n",
    "        targets = np.asarray(targets)\n",
    "        \n",
    "        return f1_score(targets, \n",
    "                        preds, \n",
    "                        average='macro',\n",
    "                        labels=[label for label in set(targets) if label not in excluded_tags.values()])\n",
    "    else:\n",
    "        return -1"
   ]
  },
  {
   "cell_type": "code",
   "execution_count": 28,
   "metadata": {},
   "outputs": [],
   "source": [
    "concat_tags = []\n",
    "concat_preds = []\n",
    "i = 0\n",
    "for batch_idx, data in enumerate(val_loader):\n",
    "    inputs, labels = data[0], data[1]\n",
    "    tags = tag_to_idx_conv(labels, global_tags)\n",
    "    \n",
    "    sentence_idxs = word_to_idx_conv(inputs, final_vocab)\n",
    "    # print(inputs)\n",
    "    # print(sentence_idxs)\n",
    "    tag_scores = baseline(sentence_idxs)\n",
    "    # print(labels)\n",
    "    # print(tags.size())\n",
    "    # print(tag_scores.size())\n",
    "\n",
    "\n",
    "    # max_preds = tag_scores.argmax(dim = 1, keepdim = True)\n",
    "    # non_pad_elements = tags[torch.tensor([v not in list(excluded_tags.values()) for v in tags])].nonzero()\n",
    "    # correct = max_preds[non_pad_elements].squeeze(1).eq(tags[non_pad_elements])\n",
    "    \n",
    "    concat_tags.extend(tags.tolist())\n",
    "    concat_preds.extend(tag_scores.argmax(-1).tolist())\n",
    "    break\n"
   ]
  },
  {
   "cell_type": "code",
   "execution_count": 1,
   "metadata": {},
   "outputs": [],
   "source": [
    "def train(net, train_loader, loss_function, word_vocab, tags_vocab, excluded_tags):\n",
    "    net.train()\n",
    "\n",
    "    optimizer = torch.optim.Adam(net.parameters())\n",
    "\n",
    "    losses = []\n",
    "    accuracy = []\n",
    "    for batch_idx, data in enumerate(train_loader):\n",
    "        inputs, labels = data[0], data[1]\n",
    "        \n",
    "        optimizer.zero_grad()\n",
    "\n",
    "        # Retrieve tags and sentence indices\n",
    "        tags = tag_to_idx_conv(labels, tags_vocab)\n",
    "        sentence_idxs = word_to_idx_conv(inputs, word_vocab)\n",
    "        \n",
    "        tag_scores = net(sentence_idxs)\n",
    "\n",
    "        # calculate loss\n",
    "        loss = loss_function(tag_scores, tags)\n",
    "        \n",
    "        loss.backward()\n",
    "        optimizer.step()\n",
    "\n",
    "        losses.append(loss.cpu()) \n",
    "        \n",
    "        # calculate accuracy\n",
    "        acc = categorical_accuracy(tag_scores, tags, excluded_tags)\n",
    "        accuracy.append(acc)\n",
    "\n",
    "    return losses, accuracy\n"
   ]
  },
  {
   "cell_type": "code",
   "execution_count": 30,
   "metadata": {},
   "outputs": [],
   "source": [
    "def validate(net, val_loader, loss_function, word_vocab, tags_vocab, excluded_tags={}):\n",
    "    net.eval()\n",
    "    val_losses = []\n",
    "    val_accuracy = []\n",
    "\n",
    "    # used for computing macro-f1\n",
    "    concat_tags = []\n",
    "    concat_preds = []\n",
    "\n",
    "    with torch.no_grad():\n",
    "        for batch_idx, data in enumerate(val_loader):\n",
    "            inputs, labels = data[0], data[1]\n",
    "            \n",
    "            tags = tag_to_idx_conv(labels, tags_vocab)\n",
    "            sentence_idxs = word_to_idx_conv(inputs, word_vocab)\n",
    "            \n",
    "            tag_scores = net(sentence_idxs)\n",
    "\n",
    "            loss = loss_function(tag_scores, tags)\n",
    "            val_losses.append(loss.cpu()) \n",
    "            \n",
    "            acc = categorical_accuracy(tag_scores, tags, excluded_tags)\n",
    "            val_accuracy.append(acc)\n",
    "\n",
    "            # Exclude tags\n",
    "            tags = [t for t in tags.tolist() if t not in excluded_tags]\n",
    "            tag_scores = [t for t in tag_scores.argmax(-1).tolist() if t not in excluded_tags]\n",
    "\n",
    "            concat_tags.extend(tags)\n",
    "            concat_preds.extend(tag_scores)\n",
    "\n",
    "    return val_losses, val_accuracy, concat_preds, concat_tags"
   ]
  },
  {
   "cell_type": "code",
   "execution_count": 31,
   "metadata": {},
   "outputs": [],
   "source": [
    "def epoch_time(start_time, end_time):\n",
    "    elapsed_time = end_time - start_time\n",
    "    elapsed_mins = int(elapsed_time / 60)\n",
    "    elapsed_secs = int(elapsed_time - (elapsed_mins * 60))\n",
    "    return elapsed_mins, elapsed_secs"
   ]
  },
  {
   "cell_type": "code",
   "execution_count": 32,
   "metadata": {},
   "outputs": [],
   "source": [
    "def train_model(model, n_epochs):\n",
    "\n",
    "    for epoch in range(n_epochs):\n",
    "\n",
    "        start_time = time.time()\n",
    "        \n",
    "        train_loss, train_acc = train(model, train_loader, loss_function, final_vocab, global_tags, excluded_tags)\n",
    "        valid_loss, valid_acc, pred_tags, true_tags = validate(model, val_loader, loss_function, final_vocab, global_tags, excluded_tags)\n",
    "        \n",
    "        end_time = time.time()\n",
    "\n",
    "        epoch_mins, epoch_secs = epoch_time(start_time, end_time)\n",
    "        \n",
    "        print(f'Epoch: {epoch+1:02} | Epoch Time: {epoch_mins}m {epoch_secs}s')\n",
    "        print(f'\\tTrain Loss: {torch.mean(torch.tensor(train_loss)):.3f} | Train Acc: {torch.mean(torch.tensor(train_acc))*100:.2f}%')\n",
    "        print(f'\\t Val. Loss: {torch.mean(torch.tensor(valid_loss)):.3f} | Val. Acc: {torch.mean(torch.tensor(valid_acc))*100:.2f}% | Val. Macro-F1: {macro_f1(pred_tags, true_tags, excluded_tags):.2f}')"
   ]
  },
  {
   "cell_type": "code",
   "execution_count": 33,
   "metadata": {},
   "outputs": [
    {
     "name": "stdout",
     "output_type": "stream",
     "text": [
      "Accuracy: 0.03\n",
      "Macro-F1: 0.02\n"
     ]
    }
   ],
   "source": [
    "losses, accuracy, pred_tags, true_tags = validate(baseline, val_loader, loss_function, final_vocab, global_tags, excluded_tags)\n",
    "print(f\"Accuracy: {torch.mean(torch.tensor(accuracy)):.2f}\")\n",
    "print(f\"Macro-F1: {macro_f1(pred_tags, true_tags):.2f}\")"
   ]
  },
  {
   "cell_type": "code",
   "execution_count": 34,
   "metadata": {},
   "outputs": [
    {
     "data": {
      "text/plain": [
       "Model2(\n",
       "  (embedding): Embedding(10570, 100, padding_idx=10569)\n",
       "  (lstm1): LSTM(100, 100, bidirectional=True)\n",
       "  (dense1): Linear(in_features=200, out_features=200, bias=True)\n",
       "  (dense2): Linear(in_features=200, out_features=45, bias=True)\n",
       ")"
      ]
     },
     "execution_count": 34,
     "metadata": {},
     "output_type": "execute_result"
    }
   ],
   "source": [
    "# Initialize weights\n",
    "def init_weights(model):\n",
    "    for _, param in model.named_parameters():\n",
    "        nn.init.normal_(param.data, mean = 0, std = 0.1)\n",
    "        \n",
    "baseline.apply(init_weights)\n",
    "model1.apply(init_weights)\n",
    "model2.apply(init_weights)"
   ]
  },
  {
   "cell_type": "code",
   "execution_count": 35,
   "metadata": {},
   "outputs": [
    {
     "data": {
      "text/plain": [
       "tensor([[ 0.0121, -0.0130,  0.0431,  ..., -0.0208,  0.0371, -0.0187],\n",
       "        [ 0.0166, -0.0375, -0.0118,  ...,  0.0312, -0.0143,  0.0210],\n",
       "        [-0.1077,  0.1105,  0.5981,  ..., -0.8316,  0.4529,  0.0826],\n",
       "        ...,\n",
       "        [ 0.1687,  1.1911,  0.1745,  ..., -0.3251,  0.3670, -0.1799],\n",
       "        [-0.3244,  0.8465, -0.5692,  ..., -0.0289,  1.4115,  0.2803],\n",
       "        [ 0.0000,  0.0000,  0.0000,  ...,  0.0000,  0.0000,  0.0000]])"
      ]
     },
     "execution_count": 35,
     "metadata": {},
     "output_type": "execute_result"
    }
   ],
   "source": [
    "# Initializa embedding layer with pretraining embedding matrix\n",
    "baseline.embedding.weight.data.copy_(train_emb_matrix)\n",
    "model1.embedding.weight.data.copy_(train_emb_matrix)\n",
    "model2.embedding.weight.data.copy_(train_emb_matrix)"
   ]
  },
  {
   "cell_type": "code",
   "execution_count": 36,
   "metadata": {},
   "outputs": [],
   "source": [
    "EPOCHS = 10"
   ]
  },
  {
   "cell_type": "code",
   "execution_count": 37,
   "metadata": {},
   "outputs": [
    {
     "name": "stdout",
     "output_type": "stream",
     "text": [
      "Epoch: 01 | Epoch Time: 0m 4s\n",
      "\tTrain Loss: 2.021 | Train Acc: 50.19%\n",
      "\t Val. Loss: 1.166 | Val. Acc: 70.28% | Val. Macro-F1: 0.31\n",
      "Epoch: 02 | Epoch Time: 0m 4s\n",
      "\tTrain Loss: 0.746 | Train Acc: 81.89%\n",
      "\t Val. Loss: 0.641 | Val. Acc: 84.51% | Val. Macro-F1: 0.49\n",
      "Epoch: 03 | Epoch Time: 0m 4s\n",
      "\tTrain Loss: 0.422 | Train Acc: 89.87%\n",
      "\t Val. Loss: 0.453 | Val. Acc: 88.41% | Val. Macro-F1: 0.56\n",
      "Epoch: 04 | Epoch Time: 0m 4s\n",
      "\tTrain Loss: 0.271 | Train Acc: 93.44%\n",
      "\t Val. Loss: 0.352 | Val. Acc: 90.44% | Val. Macro-F1: 0.61\n",
      "Epoch: 05 | Epoch Time: 0m 5s\n",
      "\tTrain Loss: 0.188 | Train Acc: 95.32%\n",
      "\t Val. Loss: 0.301 | Val. Acc: 91.77% | Val. Macro-F1: 0.67\n",
      "Epoch: 06 | Epoch Time: 0m 4s\n",
      "\tTrain Loss: 0.134 | Train Acc: 96.66%\n",
      "\t Val. Loss: 0.273 | Val. Acc: 92.29% | Val. Macro-F1: 0.70\n",
      "Epoch: 07 | Epoch Time: 0m 4s\n",
      "\tTrain Loss: 0.096 | Train Acc: 97.63%\n",
      "\t Val. Loss: 0.259 | Val. Acc: 92.57% | Val. Macro-F1: 0.72\n",
      "Epoch: 08 | Epoch Time: 0m 4s\n",
      "\tTrain Loss: 0.069 | Train Acc: 98.36%\n",
      "\t Val. Loss: 0.243 | Val. Acc: 93.20% | Val. Macro-F1: 0.73\n",
      "Epoch: 09 | Epoch Time: 0m 4s\n",
      "\tTrain Loss: 0.051 | Train Acc: 98.65%\n",
      "\t Val. Loss: 0.240 | Val. Acc: 93.41% | Val. Macro-F1: 0.76\n",
      "Epoch: 10 | Epoch Time: 0m 4s\n",
      "\tTrain Loss: 0.037 | Train Acc: 99.12%\n",
      "\t Val. Loss: 0.248 | Val. Acc: 93.49% | Val. Macro-F1: 0.76\n"
     ]
    }
   ],
   "source": [
    "train_model(baseline, EPOCHS)"
   ]
  },
  {
   "cell_type": "code",
   "execution_count": 38,
   "metadata": {},
   "outputs": [
    {
     "name": "stdout",
     "output_type": "stream",
     "text": [
      "Epoch: 01 | Epoch Time: 0m 6s\n",
      "\tTrain Loss: 2.104 | Train Acc: 44.23%\n",
      "\t Val. Loss: 1.140 | Val. Acc: 70.62% | Val. Macro-F1: 0.31\n",
      "Epoch: 02 | Epoch Time: 0m 6s\n",
      "\tTrain Loss: 0.703 | Train Acc: 82.13%\n",
      "\t Val. Loss: 0.611 | Val. Acc: 84.38% | Val. Macro-F1: 0.49\n",
      "Epoch: 03 | Epoch Time: 0m 6s\n",
      "\tTrain Loss: 0.370 | Train Acc: 90.73%\n",
      "\t Val. Loss: 0.416 | Val. Acc: 89.20% | Val. Macro-F1: 0.57\n",
      "Epoch: 04 | Epoch Time: 0m 6s\n",
      "\tTrain Loss: 0.230 | Train Acc: 94.10%\n",
      "\t Val. Loss: 0.351 | Val. Acc: 90.06% | Val. Macro-F1: 0.63\n",
      "Epoch: 05 | Epoch Time: 0m 6s\n",
      "\tTrain Loss: 0.152 | Train Acc: 95.95%\n",
      "\t Val. Loss: 0.299 | Val. Acc: 92.12% | Val. Macro-F1: 0.68\n",
      "Epoch: 06 | Epoch Time: 0m 6s\n",
      "\tTrain Loss: 0.105 | Train Acc: 97.36%\n",
      "\t Val. Loss: 0.268 | Val. Acc: 92.64% | Val. Macro-F1: 0.73\n",
      "Epoch: 07 | Epoch Time: 0m 6s\n",
      "\tTrain Loss: 0.074 | Train Acc: 98.05%\n",
      "\t Val. Loss: 0.254 | Val. Acc: 93.34% | Val. Macro-F1: 0.73\n",
      "Epoch: 08 | Epoch Time: 0m 7s\n",
      "\tTrain Loss: 0.055 | Train Acc: 98.55%\n",
      "\t Val. Loss: 0.263 | Val. Acc: 93.41% | Val. Macro-F1: 0.74\n",
      "Epoch: 09 | Epoch Time: 0m 7s\n",
      "\tTrain Loss: 0.040 | Train Acc: 98.93%\n",
      "\t Val. Loss: 0.254 | Val. Acc: 93.65% | Val. Macro-F1: 0.79\n",
      "Epoch: 10 | Epoch Time: 0m 7s\n",
      "\tTrain Loss: 0.027 | Train Acc: 99.38%\n",
      "\t Val. Loss: 0.257 | Val. Acc: 93.42% | Val. Macro-F1: 0.78\n"
     ]
    }
   ],
   "source": [
    "train_model(model1, EPOCHS)"
   ]
  },
  {
   "cell_type": "code",
   "execution_count": 39,
   "metadata": {},
   "outputs": [
    {
     "name": "stdout",
     "output_type": "stream",
     "text": [
      "Epoch: 01 | Epoch Time: 0m 5s\n",
      "\tTrain Loss: 1.545 | Train Acc: 60.42%\n",
      "\t Val. Loss: 0.756 | Val. Acc: 80.52% | Val. Macro-F1: 0.46\n",
      "Epoch: 02 | Epoch Time: 0m 5s\n",
      "\tTrain Loss: 0.469 | Train Acc: 87.11%\n",
      "\t Val. Loss: 0.450 | Val. Acc: 87.50% | Val. Macro-F1: 0.57\n",
      "Epoch: 03 | Epoch Time: 0m 5s\n",
      "\tTrain Loss: 0.268 | Train Acc: 92.81%\n",
      "\t Val. Loss: 0.352 | Val. Acc: 90.23% | Val. Macro-F1: 0.66\n",
      "Epoch: 04 | Epoch Time: 0m 5s\n",
      "\tTrain Loss: 0.172 | Train Acc: 95.21%\n",
      "\t Val. Loss: 0.294 | Val. Acc: 91.61% | Val. Macro-F1: 0.72\n",
      "Epoch: 05 | Epoch Time: 0m 5s\n",
      "\tTrain Loss: 0.113 | Train Acc: 96.85%\n",
      "\t Val. Loss: 0.293 | Val. Acc: 91.80% | Val. Macro-F1: 0.74\n",
      "Epoch: 06 | Epoch Time: 0m 5s\n",
      "\tTrain Loss: 0.083 | Train Acc: 97.79%\n",
      "\t Val. Loss: 0.292 | Val. Acc: 91.93% | Val. Macro-F1: 0.77\n",
      "Epoch: 07 | Epoch Time: 0m 5s\n",
      "\tTrain Loss: 0.062 | Train Acc: 98.27%\n",
      "\t Val. Loss: 0.299 | Val. Acc: 91.54% | Val. Macro-F1: 0.78\n",
      "Epoch: 08 | Epoch Time: 0m 6s\n",
      "\tTrain Loss: 0.044 | Train Acc: 98.72%\n",
      "\t Val. Loss: 0.264 | Val. Acc: 93.08% | Val. Macro-F1: 0.78\n",
      "Epoch: 09 | Epoch Time: 0m 5s\n",
      "\tTrain Loss: 0.029 | Train Acc: 99.21%\n",
      "\t Val. Loss: 0.280 | Val. Acc: 93.03% | Val. Macro-F1: 0.77\n",
      "Epoch: 10 | Epoch Time: 0m 6s\n",
      "\tTrain Loss: 0.021 | Train Acc: 99.38%\n",
      "\t Val. Loss: 0.302 | Val. Acc: 92.62% | Val. Macro-F1: 0.80\n"
     ]
    }
   ],
   "source": [
    "train_model(model2, EPOCHS)"
   ]
  },
  {
   "cell_type": "code",
   "execution_count": 40,
   "metadata": {},
   "outputs": [
    {
     "name": "stdout",
     "output_type": "stream",
     "text": [
      "Baseline Test. Acc: 94.73%\n",
      "Baseline Test. F1: 0.88\n"
     ]
    }
   ],
   "source": [
    "_, test_acc, pred_tags, true_tags= validate(baseline, test_loader, loss_function, final_vocab, train_tags, excluded_tags)\n",
    "print(f'Baseline Test. Acc: {torch.mean(torch.tensor(test_acc))*100:.2f}%')\n",
    "print(f'Baseline Test. F1: {macro_f1(pred_tags, true_tags):.2f}')"
   ]
  },
  {
   "cell_type": "code",
   "execution_count": 41,
   "metadata": {},
   "outputs": [
    {
     "name": "stdout",
     "output_type": "stream",
     "text": [
      "Model 1 Test. Acc: 94.52%\n",
      "Model 1 Test. F1: 0.86\n"
     ]
    }
   ],
   "source": [
    "_, test_acc, pred_tags, true_tags = validate(model1, test_loader, loss_function, final_vocab, train_tags, excluded_tags)\n",
    "print(f'Model 1 Test. Acc: {torch.mean(torch.tensor(test_acc))*100:.2f}%')\n",
    "print(f'Model 1 Test. F1: {macro_f1(pred_tags, true_tags):.2f}')"
   ]
  },
  {
   "cell_type": "code",
   "execution_count": 42,
   "metadata": {},
   "outputs": [
    {
     "name": "stdout",
     "output_type": "stream",
     "text": [
      "Model 2 Test. Acc: 94.43%\n",
      "Model 2 Test. F1: 0.87\n"
     ]
    }
   ],
   "source": [
    "_, test_acc, pred_tags, true_tags = validate(model2, test_loader, loss_function, final_vocab, train_tags, excluded_tags)\n",
    "print(f'Model 2 Test. Acc: {torch.mean(torch.tensor(test_acc))*100:.2f}%')\n",
    "print(f'Model 2 Test. F1: {macro_f1(pred_tags, true_tags):.2f}')"
   ]
  },
  {
   "cell_type": "code",
   "execution_count": 43,
   "metadata": {},
   "outputs": [],
   "source": [
    "def tag_sentence(model, sentence, word_vocab, tag_vocab):\n",
    "    # tags = token_to_idx_conv(actual_tags, tag_vocab)\n",
    "    sentence_idxs = word_to_idx_conv(sentence, word_vocab)\n",
    "    tag_scores = model(sentence_idxs)\n",
    "\n",
    "    pred_tags = tag_scores.argmax(-1)\n",
    "    \n",
    "    return idx_to_tag_conv(pred_tags, tag_vocab)"
   ]
  },
  {
   "cell_type": "code",
   "execution_count": 44,
   "metadata": {},
   "outputs": [],
   "source": [
    "def pretty_comparison():\n",
    "    sentence, actual_tags = next(iter(test_loader))\n",
    "    actual_tags = [t[0] for t in actual_tags] #conversion to list\n",
    "\n",
    "    pred_tags = tag_sentence(baseline, sentence, final_vocab, train_tags)\n",
    "    pred_tags1 = tag_sentence(model1, sentence, final_vocab, train_tags)\n",
    "    pred_tags2 = tag_sentence(model2, sentence, final_vocab, train_tags)\n",
    "\n",
    "    b_acc = torch.mean(torch.tensor([i == j for i, j in zip(pred_tags, actual_tags)]).float())\n",
    "    m1_acc = torch.mean(torch.tensor([i == j for i, j in zip(pred_tags1, actual_tags)]).float())\n",
    "    m2_acc = torch.mean(torch.tensor([i == j for i, j in zip(pred_tags2, actual_tags)]).float())\n",
    "\n",
    "    print(f'Baseline Acc: {b_acc*100:.2f}%')\n",
    "    print(f'Model1 Acc: {m1_acc*100:.2f}%')\n",
    "    print(f'Model2 Acc: {m2_acc*100:.2f}%')\n",
    "\n",
    "    print(\"Pred. Tag\\t\\tActual Tag\\tCorrect?\\tCorrect1?\\tCorrect2?\\tToken\\n\")\n",
    "\n",
    "    for token, pred_tag, pred_tag1, pred_tag2, actual_tag in zip(sentence, pred_tags, pred_tags1, pred_tags2, actual_tags):\n",
    "        correct = '✔' if pred_tag == actual_tag else '✘'\n",
    "        correct1 = '✔' if pred_tag1 == actual_tag else '✘'\n",
    "        correct2 = '✔' if pred_tag2 == actual_tag else '✘'\n",
    "        preds = pred_tag+','+pred_tag1+','+pred_tag2\n",
    "        print(f\"{preds}\\t\\t{actual_tag}\\t\\t{correct}\\t\\t{correct1}\\t\\t{correct2}\\t\\t{token}\")"
   ]
  },
  {
   "cell_type": "code",
   "execution_count": 118,
   "metadata": {},
   "outputs": [],
   "source": [
    "def print_support_graph(tag_freqs, lw_thresh, hgh_thresh):\n",
    "    # plot\n",
    "    _, ax = plt.subplots()\n",
    "    y = [v for v in tag_freqs.values()]\n",
    "    x = np.arange(1, len(tag_freqs.keys())+1)\n",
    "\n",
    "    ax.set_yscale('log')\n",
    "    ax.set_xlabel('N. Tags')\n",
    "    ax.set_ylabel('Support (log)')\n",
    "\n",
    "    ax.axhline(y=lw_thresh, color='r', linestyle='--', label='Less frequent threshold')\n",
    "    ax.axhline(y=hgh_thresh, color='g', linestyle='--', label='Most frequent threshold')\n",
    "\n",
    "    ax.legend()\n",
    "    ax.plot(x, y, linewidth=3.0)\n",
    "\n",
    "    plt.show()"
   ]
  },
  {
   "cell_type": "code",
   "execution_count": 226,
   "metadata": {},
   "outputs": [],
   "source": [
    "def precs_recall_curve(precisions, recalls):\n",
    "    _, ax = plt.subplots()\n",
    "\n",
    "    ax.set_ylabel('Precision')\n",
    "    ax.set_xlabel('Recall')\n",
    "\n",
    "    ax.axvline(x=0.8, color='r', linestyle='--')\n",
    "    # ax.axhline(y=hgh_thresh, color='g', linestyle='--', label='Most frequent threshold')\n",
    "\n",
    "    ax.legend()\n",
    "    ax.plot(recalls, precisions, linewidth=2.0)\n"
   ]
  },
  {
   "cell_type": "code",
   "execution_count": 45,
   "metadata": {},
   "outputs": [
    {
     "name": "stdout",
     "output_type": "stream",
     "text": [
      "Baseline Acc: 93.23%\n",
      "Model1 Acc: 95.22%\n",
      "Model2 Acc: 93.63%\n",
      "Pred. Tag\t\tActual Tag\tCorrect?\tCorrect1?\tCorrect2?\tToken\n",
      "\n",
      "DT,DT,DT\t\tDT\t\t✔\t\t✔\t\t✔\t\t('The',)\n",
      "NNP,NNP,NNP\t\tNNP\t\t✔\t\t✔\t\t✔\t\t('Bush',)\n",
      "NN,NN,NN\t\tNN\t\t✔\t\t✔\t\t✔\t\t('administration',)\n",
      "POS,POS,POS\t\tPOS\t\t✔\t\t✔\t\t✔\t\t(\"'s\",)\n",
      "NN,NN,NN\t\tNN\t\t✔\t\t✔\t\t✔\t\t('nomination',)\n",
      "IN,IN,IN\t\tIN\t\t✔\t\t✔\t\t✔\t\t('of',)\n",
      "NNP,NNP,NNP\t\tNNP\t\t✔\t\t✔\t\t✔\t\t('Clarence',)\n",
      "NNP,NNP,NNP\t\tNNP\t\t✔\t\t✔\t\t✔\t\t('Thomas',)\n",
      "TO,TO,TO\t\tTO\t\t✔\t\t✔\t\t✔\t\t('to',)\n",
      "DT,DT,DT\t\tDT\t\t✔\t\t✔\t\t✔\t\t('a',)\n",
      "NN,NN,NN\t\tNN\t\t✔\t\t✔\t\t✔\t\t('seat',)\n",
      "IN,IN,IN\t\tIN\t\t✔\t\t✔\t\t✔\t\t('on',)\n",
      "DT,DT,DT\t\tDT\t\t✔\t\t✔\t\t✔\t\t('the',)\n",
      "JJ,JJ,JJ\t\tJJ\t\t✔\t\t✔\t\t✔\t\t('federal',)\n",
      "NNS,NNS,NNS\t\tNNS\t\t✔\t\t✔\t\t✔\t\t('appeals',)\n",
      "NN,NN,NN\t\tNN\t\t✔\t\t✔\t\t✔\t\t('court',)\n",
      "RB,RB,RB\t\tRB\t\t✔\t\t✔\t\t✔\t\t('here',)\n",
      "VBD,VBD,VBD\t\tVBD\t\t✔\t\t✔\t\t✔\t\t('received',)\n",
      "DT,DT,DT\t\tDT\t\t✔\t\t✔\t\t✔\t\t('a',)\n",
      "NN,NN,NN\t\tNN\t\t✔\t\t✔\t\t✔\t\t('blow',)\n",
      "DT,DT,DT\t\tDT\t\t✔\t\t✔\t\t✔\t\t('this',)\n",
      "NN,NN,NN\t\tNN\t\t✔\t\t✔\t\t✔\t\t('week',)\n",
      "WRB,WRB,WRB\t\tWRB\t\t✔\t\t✔\t\t✔\t\t('when',)\n",
      "DT,DT,DT\t\tDT\t\t✔\t\t✔\t\t✔\t\t('the',)\n",
      "NNP,NNP,NNP\t\tNNP\t\t✔\t\t✔\t\t✔\t\t('American',)\n",
      "NNP,NNP,NNP\t\tNNP\t\t✔\t\t✔\t\t✔\t\t('Bar',)\n",
      "NNP,NNP,NNP\t\tNNP\t\t✔\t\t✔\t\t✔\t\t('Association',)\n",
      "VBD,VBD,VBD\t\tVBD\t\t✔\t\t✔\t\t✔\t\t('gave',)\n",
      "NNP,NNP,NNP\t\tNNP\t\t✔\t\t✔\t\t✔\t\t('Mr.',)\n",
      "NNP,NNP,NNP\t\tNNP\t\t✔\t\t✔\t\t✔\t\t('Thomas',)\n",
      "RB,RB,RB\t\tRB\t\t✔\t\t✔\t\t✔\t\t('only',)\n",
      "DT,DT,DT\t\tDT\t\t✔\t\t✔\t\t✔\t\t('a',)\n",
      "``,``,``\t\t``\t\t✔\t\t✔\t\t✔\t\t('``',)\n",
      "RB,JJ,JJ\t\tJJ\t\t✘\t\t✔\t\t✔\t\t('qualified',)\n",
      "'','',''\t\t''\t\t✔\t\t✔\t\t✔\t\t(\"''\",)\n",
      "NN,NN,NN\t\tNN\t\t✔\t\t✔\t\t✔\t\t('rating',)\n",
      ",,,,,\t\t,\t\t✔\t\t✔\t\t✔\t\t(',',)\n",
      "RB,RB,RB\t\tRB\t\t✔\t\t✔\t\t✔\t\t('rather',)\n",
      "IN,IN,IN\t\tIN\t\t✔\t\t✔\t\t✔\t\t('than',)\n",
      "``,``,``\t\t``\t\t✔\t\t✔\t\t✔\t\t('``',)\n",
      "RB,RB,RB\t\tRB\t\t✔\t\t✔\t\t✔\t\t('well',)\n",
      "JJ,VBN,RB\t\tVBN\t\t✘\t\t✔\t\t✘\t\t('qualified',)\n",
      ".,.,.\t\t.\t\t✔\t\t✔\t\t✔\t\t('.',)\n",
      "'','',''\t\t''\t\t✔\t\t✔\t\t✔\t\t(\"''\",)\n",
      "NNS,NNS,NNS\t\tNNS\t\t✔\t\t✔\t\t✔\t\t('People',)\n",
      "JJ,JJ,JJ\t\tJJ\t\t✔\t\t✔\t\t✔\t\t('familiar',)\n",
      "IN,IN,IN\t\tIN\t\t✔\t\t✔\t\t✔\t\t('with',)\n",
      "DT,DT,DT\t\tDT\t\t✔\t\t✔\t\t✔\t\t('the',)\n",
      "NNP,NNP,NNP\t\tNNP\t\t✔\t\t✔\t\t✔\t\t('Senate',)\n",
      "NNP,NNP,NNP\t\tNNP\t\t✔\t\t✔\t\t✔\t\t('Judiciary',)\n",
      "NNP,NNP,NNP\t\tNNP\t\t✔\t\t✔\t\t✔\t\t('Committee',)\n",
      ",,,,,\t\t,\t\t✔\t\t✔\t\t✔\t\t(',',)\n",
      "WDT,WDT,WDT\t\tWDT\t\t✔\t\t✔\t\t✔\t\t('which',)\n",
      "MD,MD,MD\t\tMD\t\t✔\t\t✔\t\t✔\t\t('will',)\n",
      "VB,VB,VB\t\tVB\t\t✔\t\t✔\t\t✔\t\t('vote',)\n",
      "IN,IN,IN\t\tIN\t\t✔\t\t✔\t\t✔\t\t('on',)\n",
      "DT,DT,DT\t\tDT\t\t✔\t\t✔\t\t✔\t\t('the',)\n",
      "NN,NN,NN\t\tNN\t\t✔\t\t✔\t\t✔\t\t('nomination',)\n",
      ",,,,,\t\t,\t\t✔\t\t✔\t\t✔\t\t(',',)\n",
      "VBD,VBD,VBD\t\tVBD\t\t✔\t\t✔\t\t✔\t\t('said',)\n",
      "DT,DT,DT\t\tDT\t\t✔\t\t✔\t\t✔\t\t('some',)\n",
      "JJ,JJ,JJ\t\tJJ\t\t✔\t\t✔\t\t✔\t\t('liberal',)\n",
      "NNS,NNS,NNS\t\tNNS\t\t✔\t\t✔\t\t✔\t\t('members',)\n",
      "IN,IN,IN\t\tIN\t\t✔\t\t✔\t\t✔\t\t('of',)\n",
      "DT,DT,DT\t\tDT\t\t✔\t\t✔\t\t✔\t\t('the',)\n",
      "NN,NN,NN\t\tNN\t\t✔\t\t✔\t\t✔\t\t('panel',)\n",
      "VBP,VBP,VBP\t\tVBP\t\t✔\t\t✔\t\t✔\t\t('are',)\n",
      "JJ,JJ,JJ\t\tJJ\t\t✔\t\t✔\t\t✔\t\t('likely',)\n",
      "TO,TO,TO\t\tTO\t\t✔\t\t✔\t\t✔\t\t('to',)\n",
      "VB,VB,VB\t\tVB\t\t✔\t\t✔\t\t✔\t\t('question',)\n",
      "DT,DT,DT\t\tDT\t\t✔\t\t✔\t\t✔\t\t('the',)\n",
      "NNP,NNP,JJ\t\tNNP\t\t✔\t\t✔\t\t✘\t\t('ABA',)\n",
      "NN,NN,NN\t\tNN\t\t✔\t\t✔\t\t✔\t\t('rating',)\n",
      "IN,IN,IN\t\tIN\t\t✔\t\t✔\t\t✔\t\t('in',)\n",
      "NNS,NNS,NNS\t\tNNS\t\t✔\t\t✔\t\t✔\t\t('hearings',)\n",
      "IN,IN,IN\t\tIN\t\t✔\t\t✔\t\t✔\t\t('on',)\n",
      "DT,DT,DT\t\tDT\t\t✔\t\t✔\t\t✔\t\t('the',)\n",
      "NN,NN,NN\t\tNN\t\t✔\t\t✔\t\t✔\t\t('matter',)\n",
      ".,.,.\t\t.\t\t✔\t\t✔\t\t✔\t\t('.',)\n",
      "NNP,NNP,NNP\t\tNNP\t\t✔\t\t✔\t\t✔\t\t('Mr.',)\n",
      "NNP,NNP,NNP\t\tNNP\t\t✔\t\t✔\t\t✔\t\t('Thomas',)\n",
      ",,,,,\t\t,\t\t✔\t\t✔\t\t✔\t\t(',',)\n",
      "RB,RB,RB\t\tRB\t\t✔\t\t✔\t\t✔\t\t('currently',)\n",
      "NN,NN,NN\t\tNN\t\t✔\t\t✔\t\t✔\t\t('chairman',)\n",
      "IN,IN,IN\t\tIN\t\t✔\t\t✔\t\t✔\t\t('of',)\n",
      "DT,DT,DT\t\tDT\t\t✔\t\t✔\t\t✔\t\t('the',)\n",
      "NNP,NNP,NNP\t\tNNP\t\t✔\t\t✔\t\t✔\t\t('Equal',)\n",
      "NNP,NNP,NNP\t\tNNP\t\t✔\t\t✔\t\t✔\t\t('Employment',)\n",
      "NNP,NNP,NNP\t\tNNP\t\t✔\t\t✔\t\t✔\t\t('Opportunity',)\n",
      "NNP,NNP,NNP\t\tNNP\t\t✔\t\t✔\t\t✔\t\t('Commission',)\n",
      ",,,,,\t\t,\t\t✔\t\t✔\t\t✔\t\t(',',)\n",
      "MD,MD,MD\t\tMD\t\t✔\t\t✔\t\t✔\t\t('would',)\n",
      "VB,VB,VB\t\tVB\t\t✔\t\t✔\t\t✔\t\t('add',)\n",
      "DT,DT,DT\t\tDT\t\t✔\t\t✔\t\t✔\t\t('another',)\n",
      "JJ,JJ,JJ\t\tJJ\t\t✔\t\t✔\t\t✔\t\t('conservative',)\n",
      "NN,NN,NN\t\tNN\t\t✔\t\t✔\t\t✔\t\t('voice',)\n",
      "TO,TO,TO\t\tTO\t\t✔\t\t✔\t\t✔\t\t('to',)\n",
      "DT,DT,DT\t\tDT\t\t✔\t\t✔\t\t✔\t\t('the',)\n",
      "RB,RB,RB\t\tRB\t\t✔\t\t✔\t\t✔\t\t('closely',)\n",
      "VBN,VBN,VBN\t\tVBN\t\t✔\t\t✔\t\t✔\t\t('divided',)\n",
      "NN,NN,NN\t\tNN\t\t✔\t\t✔\t\t✔\t\t('court',)\n",
      ".,.,.\t\t.\t\t✔\t\t✔\t\t✔\t\t('.',)\n",
      "NN,NNS,NN\t\tNNS\t\t✘\t\t✔\t\t✘\t\t('Groups',)\n",
      "VBP,VBP,VBP\t\tVBP\t\t✔\t\t✔\t\t✔\t\t('have',)\n",
      "VBN,VBN,VBN\t\tVBN\t\t✔\t\t✔\t\t✔\t\t('accused',)\n",
      "PRP,PRP,PRP\t\tPRP\t\t✔\t\t✔\t\t✔\t\t('him',)\n",
      "IN,IN,IN\t\tIN\t\t✔\t\t✔\t\t✔\t\t('of',)\n",
      "VBG,VBG,VBG\t\tVBG\t\t✔\t\t✔\t\t✔\t\t('advocating',)\n",
      "NNS,NNS,NNS\t\tNNS\t\t✔\t\t✔\t\t✔\t\t('policies',)\n",
      "IN,IN,IN\t\tWDT\t\t✘\t\t✘\t\t✘\t\t('that',)\n",
      "VBN,VBN,VBN\t\tVBD\t\t✘\t\t✘\t\t✘\t\t('narrowed',)\n",
      "NNS,NNS,NNS\t\tNNS\t\t✔\t\t✔\t\t✔\t\t('rights',)\n",
      "IN,IN,IN\t\tIN\t\t✔\t\t✔\t\t✔\t\t('of',)\n",
      "JJR,JJR,JJR\t\tJJR\t\t✔\t\t✔\t\t✔\t\t('older',)\n",
      "NNS,NNS,NN\t\tNNS\t\t✔\t\t✔\t\t✘\t\t('workers',)\n",
      "CC,CC,CC\t\tCC\t\t✔\t\t✔\t\t✔\t\t('and',)\n",
      "IN,IN,IN\t\tIN\t\t✔\t\t✔\t\t✔\t\t('of',)\n",
      "VBG,VBG,VBG\t\tVBG\t\t✔\t\t✔\t\t✔\t\t('ignoring',)\n",
      "NN,NN,NN\t\tNN\t\t✔\t\t✔\t\t✔\t\t('discrimination',)\n",
      "IN,IN,IN\t\tIN\t\t✔\t\t✔\t\t✔\t\t('by',)\n",
      "JJ,JJ,JJ\t\tJJ\t\t✔\t\t✔\t\t✔\t\t('large',)\n",
      "NNS,NNS,NNS\t\tNNS\t\t✔\t\t✔\t\t✔\t\t('companies',)\n",
      ".,.,.\t\t.\t\t✔\t\t✔\t\t✔\t\t('.',)\n",
      "JJ,NN,JJ\t\tCD\t\t✘\t\t✘\t\t✘\t\t('Fourteen',)\n",
      "NNS,NNS,NNS\t\tNNS\t\t✔\t\t✔\t\t✔\t\t('members',)\n",
      "IN,IN,IN\t\tIN\t\t✔\t\t✔\t\t✔\t\t('of',)\n",
      "DT,DT,DT\t\tDT\t\t✔\t\t✔\t\t✔\t\t('the',)\n",
      "NNP,NNP,NNP\t\tNNP\t\t✔\t\t✔\t\t✔\t\t('House',)\n",
      "IN,IN,IN\t\tIN\t\t✔\t\t✔\t\t✔\t\t('with',)\n",
      "VBZ,VBP,NN\t\tNN\t\t✘\t\t✘\t\t✔\t\t('jurisdiction',)\n",
      "IN,IN,IN\t\tIN\t\t✔\t\t✔\t\t✔\t\t('over',)\n",
      "DT,DT,DT\t\tDT\t\t✔\t\t✔\t\t✔\t\t('the',)\n",
      "NN,NNS,NN\t\tNNP\t\t✘\t\t✘\t\t✘\t\t('EEOC',)\n",
      "VBP,VBP,VBP\t\tVBP\t\t✔\t\t✔\t\t✔\t\t('have',)\n",
      "VBD,VBD,VBD\t\tVBN\t\t✘\t\t✘\t\t✘\t\t('said',)\n",
      "PRP,PRP,PRP\t\tPRP\t\t✔\t\t✔\t\t✔\t\t('they',)\n",
      "VBP,VBP,VBP\t\tVBP\t\t✔\t\t✔\t\t✔\t\t('oppose',)\n",
      "NNP,NNP,NNP\t\tNNP\t\t✔\t\t✔\t\t✔\t\t('Mr.',)\n",
      "NNP,NNP,NNP\t\tNNP\t\t✔\t\t✔\t\t✔\t\t('Thomas',)\n",
      "POS,POS,POS\t\tPOS\t\t✔\t\t✔\t\t✔\t\t(\"'s\",)\n",
      "NN,NN,NN\t\tNN\t\t✔\t\t✔\t\t✔\t\t('nomination',)\n",
      "IN,IN,IN\t\tIN\t\t✔\t\t✔\t\t✔\t\t('because',)\n",
      "IN,IN,IN\t\tIN\t\t✔\t\t✔\t\t✔\t\t('of',)\n",
      "``,``,``\t\t``\t\t✔\t\t✔\t\t✔\t\t('``',)\n",
      "JJ,JJ,JJ\t\tJJ\t\t✔\t\t✔\t\t✔\t\t('serious',)\n",
      "NNS,NNS,NNS\t\tNNS\t\t✔\t\t✔\t\t✔\t\t('questions',)\n",
      "IN,IN,IN\t\tIN\t\t✔\t\t✔\t\t✔\t\t('about',)\n",
      "PRP$,PRP$,PRP$\t\tPRP$\t\t✔\t\t✔\t\t✔\t\t('his',)\n",
      "NN,NN,NN\t\tNN\t\t✔\t\t✔\t\t✔\t\t('judgment',)\n",
      "-LRB-,-LRB-,-LRB-\t\t-LRB-\t\t✔\t\t✔\t\t✔\t\t('-LCB-',)\n",
      "CC,CC,CC\t\tCC\t\t✔\t\t✔\t\t✔\t\t('and',)\n",
      "-RRB-,-RRB-,-RRB-\t\t-RRB-\t\t✔\t\t✔\t\t✔\t\t('-RCB-',)\n",
      "NN,NN,NN\t\tNN\t\t✔\t\t✔\t\t✔\t\t('respect',)\n",
      "IN,IN,IN\t\tIN\t\t✔\t\t✔\t\t✔\t\t('for',)\n",
      "DT,DT,DT\t\tDT\t\t✔\t\t✔\t\t✔\t\t('the',)\n",
      "NN,NN,NN\t\tNN\t\t✔\t\t✔\t\t✔\t\t('law',)\n",
      ".,.,.\t\t.\t\t✔\t\t✔\t\t✔\t\t('.',)\n",
      "'','',''\t\t''\t\t✔\t\t✔\t\t✔\t\t(\"''\",)\n",
      "DT,DT,DT\t\tDT\t\t✔\t\t✔\t\t✔\t\t('A',)\n",
      "JJ,JJ,JJ\t\tJJ\t\t✔\t\t✔\t\t✔\t\t('senior',)\n",
      "NNP,NNP,NNP\t\tNNP\t\t✔\t\t✔\t\t✔\t\t('Justice',)\n",
      "NNP,NNP,NNP\t\tNNP\t\t✔\t\t✔\t\t✔\t\t('Department',)\n",
      "NN,NN,NN\t\tNN\t\t✔\t\t✔\t\t✔\t\t('official',)\n",
      ",,,,,\t\t,\t\t✔\t\t✔\t\t✔\t\t(',',)\n",
      "RB,RB,RB\t\tRB\t\t✔\t\t✔\t\t✔\t\t('however',)\n",
      ",,,,,\t\t,\t\t✔\t\t✔\t\t✔\t\t(',',)\n",
      "VBD,VBD,VBD\t\tVBD\t\t✔\t\t✔\t\t✔\t\t('said',)\n",
      "DT,DT,DT\t\tDT\t\t✔\t\t✔\t\t✔\t\t('the',)\n",
      "NN,NN,NN\t\tNN\t\t✔\t\t✔\t\t✔\t\t('administration',)\n",
      "VBZ,VBZ,VBZ\t\tVBZ\t\t✔\t\t✔\t\t✔\t\t('is',)\n",
      "RB,RB,RB\t\tRB\t\t✔\t\t✔\t\t✔\t\t(\"n't\",)\n",
      "VBN,VBN,VBN\t\tVBN\t\t✔\t\t✔\t\t✔\t\t('worried',)\n",
      "IN,IN,IN\t\tIN\t\t✔\t\t✔\t\t✔\t\t('about',)\n",
      "DT,DT,DT\t\tDT\t\t✔\t\t✔\t\t✔\t\t('the',)\n",
      "NNP,NNP,NNP\t\tNNP\t\t✔\t\t✔\t\t✔\t\t('ABA',)\n",
      "NN,NN,NN\t\tNN\t\t✔\t\t✔\t\t✔\t\t('rating',)\n",
      ".,.,.\t\t.\t\t✔\t\t✔\t\t✔\t\t('.',)\n",
      "``,``,``\t\t``\t\t✔\t\t✔\t\t✔\t\t('``',)\n",
      "PRP,PRP,PRP\t\tPRP\t\t✔\t\t✔\t\t✔\t\t('We',)\n",
      "VBP,VBP,VBP\t\tVBP\t\t✔\t\t✔\t\t✔\t\t(\"'re\",)\n",
      "VBD,VBN,VBN\t\tVBN\t\t✘\t\t✔\t\t✔\t\t('pleased',)\n",
      "DT,DT,DT\t\tDT\t\t✔\t\t✔\t\t✔\t\t('the',)\n",
      "NNP,NNP,NNP\t\tNNP\t\t✔\t\t✔\t\t✔\t\t('ABA',)\n",
      "RB,RB,RB\t\tVBD\t\t✘\t\t✘\t\t✘\t\t('rated',)\n",
      "PRP,PRP,PRP\t\tPRP\t\t✔\t\t✔\t\t✔\t\t('him',)\n",
      "RB,RB,JJ\t\tVBN\t\t✘\t\t✘\t\t✘\t\t('qualified',)\n",
      ",,,,,\t\t,\t\t✔\t\t✔\t\t✔\t\t(',',)\n",
      "'','',''\t\t''\t\t✔\t\t✔\t\t✔\t\t(\"''\",)\n",
      "NNP,NNP,NNP\t\tNNP\t\t✔\t\t✔\t\t✔\t\t('David',)\n",
      "NNP,NNP,NNP\t\tNNP\t\t✔\t\t✔\t\t✔\t\t('Runkel',)\n",
      ",,,,,\t\t,\t\t✔\t\t✔\t\t✔\t\t(',',)\n",
      "DT,DT,DT\t\tDT\t\t✔\t\t✔\t\t✔\t\t('the',)\n",
      "NN,NN,NN\t\tNN\t\t✔\t\t✔\t\t✔\t\t('department',)\n",
      "POS,POS,POS\t\tPOS\t\t✔\t\t✔\t\t✔\t\t(\"'s\",)\n",
      "NN,NN,NN\t\tNN\t\t✔\t\t✔\t\t✔\t\t('chief',)\n",
      "NN,NN,NN\t\tNN\t\t✔\t\t✔\t\t✔\t\t('spokesman',)\n",
      ",,,,,\t\t,\t\t✔\t\t✔\t\t✔\t\t(',',)\n",
      "VBD,VBD,VBD\t\tVBD\t\t✔\t\t✔\t\t✔\t\t('said',)\n",
      "IN,IN,IN\t\tIN\t\t✔\t\t✔\t\t✔\t\t('in',)\n",
      "DT,DT,DT\t\tDT\t\t✔\t\t✔\t\t✔\t\t('an',)\n",
      "NN,NN,NN\t\tNN\t\t✔\t\t✔\t\t✔\t\t('interview',)\n",
      ".,.,.\t\t.\t\t✔\t\t✔\t\t✔\t\t('.',)\n",
      "DT,DT,DT\t\tDT\t\t✔\t\t✔\t\t✔\t\t('The',)\n",
      "NNP,NNP,NNP\t\tNNP\t\t✔\t\t✔\t\t✔\t\t('ABA',)\n",
      "VBZ,VBZ,VBZ\t\tVBZ\t\t✔\t\t✔\t\t✔\t\t('gives',)\n",
      "DT,DT,DT\t\tDT\t\t✔\t\t✔\t\t✔\t\t('a',)\n",
      "``,``,``\t\t``\t\t✔\t\t✔\t\t✔\t\t('``',)\n",
      "RB,JJ,JJ\t\tVBN\t\t✘\t\t✘\t\t✘\t\t('qualified',)\n",
      "'','',''\t\t''\t\t✔\t\t✔\t\t✔\t\t(\"''\",)\n",
      "NN,NN,NN\t\tVBG\t\t✘\t\t✘\t\t✘\t\t('rating',)\n",
      "TO,TO,TO\t\tTO\t\t✔\t\t✔\t\t✔\t\t('to',)\n",
      "VB,NNS,NNS\t\tNNS\t\t✘\t\t✔\t\t✔\t\t('nominees',)\n",
      "PRP,PRP,PRP\t\tPRP\t\t✔\t\t✔\t\t✔\t\t('it',)\n",
      "VBZ,VBZ,VBZ\t\tVBZ\t\t✔\t\t✔\t\t✔\t\t('believes',)\n",
      "MD,MD,MD\t\tMD\t\t✔\t\t✔\t\t✔\t\t('would',)\n",
      "VB,VB,VB\t\tVB\t\t✔\t\t✔\t\t✔\t\t('perform',)\n",
      "``,``,``\t\t``\t\t✔\t\t✔\t\t✔\t\t('``',)\n",
      "RB,RB,RB\t\tRB\t\t✔\t\t✔\t\t✔\t\t('satisfactorily',)\n",
      "'','',''\t\t''\t\t✔\t\t✔\t\t✔\t\t(\"''\",)\n",
      "IN,IN,IN\t\tIN\t\t✔\t\t✔\t\t✔\t\t('on',)\n",
      "DT,DT,DT\t\tDT\t\t✔\t\t✔\t\t✔\t\t('the',)\n",
      "NN,NN,NN\t\tNN\t\t✔\t\t✔\t\t✔\t\t('bench',)\n",
      ".,.,.\t\t.\t\t✔\t\t✔\t\t✔\t\t('.',)\n",
      "IN,IN,IN\t\tIN\t\t✔\t\t✔\t\t✔\t\t('In',)\n",
      "NNS,NN,NN\t\tNN\t\t✘\t\t✔\t\t✔\t\t('contrast',)\n",
      ",,,,,\t\t,\t\t✔\t\t✔\t\t✔\t\t(',',)\n",
      "DT,DT,DT\t\tDT\t\t✔\t\t✔\t\t✔\t\t('the',)\n",
      "NNS,NNS,NNS\t\tNNS\t\t✔\t\t✔\t\t✔\t\t('lawyers',)\n",
      "POS,POS,POS\t\tPOS\t\t✔\t\t✔\t\t✔\t\t(\"'\",)\n",
      "NN,NN,NN\t\tNN\t\t✔\t\t✔\t\t✔\t\t('association',)\n",
      "VBZ,VBZ,VBZ\t\tVBZ\t\t✔\t\t✔\t\t✔\t\t('gives',)\n",
      "DT,DT,DT\t\tDT\t\t✔\t\t✔\t\t✔\t\t('a',)\n",
      "``,``,``\t\t``\t\t✔\t\t✔\t\t✔\t\t('``',)\n",
      "RB,RB,RB\t\tRB\t\t✔\t\t✔\t\t✔\t\t('well',)\n",
      "VBN,JJ,JJ\t\tVBN\t\t✔\t\t✘\t\t✘\t\t('qualified',)\n",
      "'','',''\t\t''\t\t✔\t\t✔\t\t✔\t\t(\"''\",)\n",
      "NN,NN,NN\t\tNN\t\t✔\t\t✔\t\t✔\t\t('rating',)\n",
      "TO,TO,TO\t\tTO\t\t✔\t\t✔\t\t✔\t\t('to',)\n",
      "DT,DT,DT\t\tDT\t\t✔\t\t✔\t\t✔\t\t('those',)\n",
      "``,``,``\t\t``\t\t✔\t\t✔\t\t✔\t\t('``',)\n",
      "RB,RB,RB\t\tVBN\t\t✘\t\t✘\t\t✘\t\t('regarded',)\n",
      "IN,IN,IN\t\tIN\t\t✔\t\t✔\t\t✔\t\t('as',)\n",
      "CD,CD,CD\t\tCD\t\t✔\t\t✔\t\t✔\t\t('one',)\n",
      "IN,IN,IN\t\tIN\t\t✔\t\t✔\t\t✔\t\t('of',)\n",
      "DT,DT,DT\t\tDT\t\t✔\t\t✔\t\t✔\t\t('the',)\n",
      "JJS,JJS,JJS\t\tJJS\t\t✔\t\t✔\t\t✔\t\t('best',)\n",
      "JJ,JJ,NN\t\tJJ\t\t✔\t\t✔\t\t✘\t\t('available',)\n",
      "IN,IN,IN\t\tIN\t\t✔\t\t✔\t\t✔\t\t('for',)\n",
      "DT,DT,DT\t\tDT\t\t✔\t\t✔\t\t✔\t\t('the',)\n",
      "NN,NN,NN\t\tNN\t\t✔\t\t✔\t\t✔\t\t('vacancy',)\n",
      ".,.,.\t\t.\t\t✔\t\t✔\t\t✔\t\t('.',)\n"
     ]
    }
   ],
   "source": [
    "pretty_comparison()"
   ]
  },
  {
   "cell_type": "code",
   "execution_count": 97,
   "metadata": {},
   "outputs": [
    {
     "name": "stdout",
     "output_type": "stream",
     "text": [
      "{'RBS': 3, 'WP$': 4, 'PDT': 4, 'EX': 5, 'RBR': 15, 'WP': 20, 'WRB': 24, 'JJS': 31, 'RP': 33, 'NNPS': 44, 'JJR': 59, 'WDT': 84, 'PRP$': 99, 'VBP': 134, 'POS': 152, 'MD': 167, 'PRP': 192, 'VBG': 221, 'VBZ': 280, 'CC': 366, 'VBN': 366, 'RB': 381, 'TO': 386, 'VB': 403, 'VBD': 634, 'CD': 858, 'JJ': 918, 'NNS': 941, 'DT': 1335, 'NNP': 1504, 'IN': 1630, 'NN': 2383}\n"
     ]
    }
   ],
   "source": [
    "test_tag_freq = test_data.get_tags_frequencies(exclude_punct=True, low_to_high=True)\n",
    "print(test_tag_freq)"
   ]
  },
  {
   "cell_type": "code",
   "execution_count": 120,
   "metadata": {},
   "outputs": [
    {
     "data": {
      "image/png": "[encoded data removed]",
      "text/plain": [
       "<Figure size 432x288 with 1 Axes>"
      ]
     },
     "metadata": {
      "needs_background": "light"
     },
     "output_type": "display_data"
    }
   ],
   "source": [
    "less_frequent_th = 60\n",
    "most_frequent_th = 500\n",
    "print_support_graph(test_tag_freq, less_frequent_th, most_frequent_th)"
   ]
  },
  {
   "cell_type": "code",
   "execution_count": 124,
   "metadata": {},
   "outputs": [
    {
     "name": "stdout",
     "output_type": "stream",
     "text": [
      "Model 2 Validation F1 on less frequent tags (< 60): 0.82\n",
      "Model 2 Test F1 on less frequent tags (< 60): 0.87\n"
     ]
    }
   ],
   "source": [
    "# F1 score on less frequent tags\n",
    "tag_to_filter = {k:v for k,v in test_tag_freq.items() if v > less_frequent_th}\n",
    "\n",
    "_, _, pred_tags, true_tags = validate(model2, val_loader, loss_function, final_vocab, train_tags, excluded_tags)\n",
    "print(f'Model 2 Validation F1 on less frequent tags (< {less_frequent_th}): {macro_f1(pred_tags, true_tags, tag_to_filter):.2f}')\n",
    "\n",
    "_, _, pred_tags, true_tags = validate(model2, test_loader, loss_function, final_vocab, train_tags, excluded_tags)\n",
    "print(f'Model 2 Test F1 on less frequent tags (< {less_frequent_th}): {macro_f1(pred_tags, true_tags, tag_to_filter):.2f}')"
   ]
  },
  {
   "cell_type": "code",
   "execution_count": 125,
   "metadata": {},
   "outputs": [
    {
     "name": "stdout",
     "output_type": "stream",
     "text": [
      "Model 2 Validation F1 on most frequent tags (> 500): 0.83\n",
      "Model 2 Test F1 on most frequent tags (> 500): 0.86\n"
     ]
    }
   ],
   "source": [
    "# F1 score on most frequent tags\n",
    "tag_to_filter = {k:v for k,v in test_tag_freq.items() if v < most_frequent_th}\n",
    "\n",
    "_, _, pred_tags, true_tags = validate(model2, val_loader, loss_function, final_vocab, train_tags, excluded_tags)\n",
    "print(f'Model 2 Validation F1 on most frequent tags (> {most_frequent_th}): {macro_f1(pred_tags, true_tags, tag_to_filter):.2f}')\n",
    "\n",
    "_, _, pred_tags, true_tags = validate(model2, test_loader, loss_function, final_vocab, train_tags, excluded_tags)\n",
    "print(f'Model 2 Test F1 on most frequent tags (> {most_frequent_th}): {macro_f1(pred_tags, true_tags, tag_to_filter):.2f}')"
   ]
  },
  {
   "cell_type": "code",
   "execution_count": 234,
   "metadata": {},
   "outputs": [],
   "source": [
    "def evaluate_classification(true_tags, pred_tags, metric_labels, metric_tags):\n",
    "\n",
    "    report = classification_report(true_tags, pred_tags, labels=metric_labels, target_names=metric_tags, zero_division=0, output_dict=True)\n",
    "    sorted_data = dict(\n",
    "        sorted(report.items(), key=lambda item: item[1]['f1-score'])\n",
    "    )\n",
    "\n",
    "    # Print the header\n",
    "    print(f\"{'':>12}{'precision':>10}{'recall':>10}{'f1-score':>10}{'support':>10}\")\n",
    "\n",
    "    last_rows = {}    \n",
    "    for key, value in sorted_data.items():\n",
    "        # I want these three at the end of the report\n",
    "        if key in ['micro avg', 'macro avg', 'weighted avg']:\n",
    "            last_rows[key] = value\n",
    "        else:\n",
    "            if value['support'] > 0:\n",
    "                print(f\"{key:<12}{value['precision']:>10.2f}{value['recall']:>10.2f}{value['f1-score']:>10.2f}{value['support']:>10}\")\n",
    "    \n",
    "   \n",
    "    precisions = [v['precision'] for k,v in sorted(report.items(), key=lambda item: item[1]['recall'])]\n",
    "    recalls = [v['recall'] for k,v in sorted(report.items(), key=lambda item: item[1]['recall'])]\n",
    "\n",
    "    precs_recall_curve(np.maximum.accumulate(precisions)[::-1], recalls)\n",
    "    \n",
    "    # print(\"\\n\")\n",
    "    # for key, value in last_rows.items():\n",
    "    #     print(f\"{key:<12}{value['precision']:>10.2f}{value['recall']:>10.2f}{value['f1-score']:>10.2f}{value['support']:>10}\")"
   ]
  },
  {
   "cell_type": "code",
   "execution_count": 235,
   "metadata": {},
   "outputs": [
    {
     "name": "stderr",
     "output_type": "stream",
     "text": [
      "No artists with labels found to put in legend.  Note that artists whose label start with an underscore are ignored when legend() is called with no argument.\n"
     ]
    },
    {
     "name": "stdout",
     "output_type": "stream",
     "text": [
      "             precision    recall  f1-score   support\n",
      "PDT               0.00      0.00      0.00         4\n",
      "NNPS              0.19      0.09      0.12        44\n",
      "RBS               0.50      0.33      0.40         3\n",
      "RBR               0.55      0.40      0.46        15\n",
      "RP                0.58      0.67      0.62        33\n",
      "JJR               0.81      0.81      0.81        59\n",
      "JJ                0.83      0.84      0.83       918\n",
      "VBN               0.88      0.80      0.84       366\n",
      "VBG               0.89      0.81      0.85       221\n",
      "RB                0.86      0.86      0.86       381\n",
      "VBP               0.91      0.88      0.89       134\n",
      "NNP               0.91      0.90      0.91      1504\n",
      "NNS               0.98      0.84      0.91       941\n",
      "EX                0.83      1.00      0.91         5\n",
      "NN                0.87      0.96      0.91      2383\n",
      "JJS               0.97      0.90      0.93        31\n",
      "VBD               0.94      0.94      0.94       634\n",
      "WRB               0.96      0.92      0.94        24\n",
      "VBZ               0.93      0.97      0.95       280\n",
      "WDT               0.97      0.93      0.95        84\n",
      "VB                0.98      0.93      0.95       403\n",
      "CD                0.97      0.95      0.96       858\n",
      "IN                0.97      0.98      0.97      1630\n",
      "PRP$              1.00      0.97      0.98        99\n",
      "PRP               0.99      0.99      0.99       192\n",
      "DT                0.99      0.99      0.99      1335\n",
      "POS               0.99      0.99      0.99       152\n",
      "MD                0.99      1.00      0.99       167\n",
      "CC                1.00      1.00      1.00       366\n",
      "TO                1.00      1.00      1.00       386\n",
      "WP                1.00      1.00      1.00        20\n",
      "WP$               1.00      1.00      1.00         4\n"
     ]
    },
    {
     "data": {
      "image/png": "[encoded data removed]",
      "text/plain": [
       "<Figure size 432x288 with 1 Axes>"
      ]
     },
     "metadata": {
      "needs_background": "light"
     },
     "output_type": "display_data"
    }
   ],
   "source": [
    "# Report on test set\n",
    "metric_tags = [t for t in train_tags.keys() if t not in excluded_tags]\n",
    "metric_labels = [v for t,v in train_tags.items() if t not in excluded_tags]\n",
    "\n",
    "_, _, pred_tags, true_tags = validate(model2, test_loader, loss_function, final_vocab, train_tags)\n",
    "evaluate_classification(true_tags, pred_tags, metric_labels, metric_tags)"
   ]
  },
  {
   "cell_type": "code",
   "execution_count": 236,
   "metadata": {},
   "outputs": [
    {
     "name": "stderr",
     "output_type": "stream",
     "text": [
      "No artists with labels found to put in legend.  Note that artists whose label start with an underscore are ignored when legend() is called with no argument.\n"
     ]
    },
    {
     "name": "stdout",
     "output_type": "stream",
     "text": [
      "             precision    recall  f1-score   support\n",
      "FW                0.00      0.00      0.00         2\n",
      "UH                0.00      0.00      0.00         2\n",
      "NNPS              0.28      0.10      0.15       105\n",
      "PDT               0.83      0.36      0.50        14\n",
      "LS                1.00      0.33      0.50         3\n",
      "RBR               0.57      0.57      0.57        35\n",
      "RP                0.47      0.79      0.59        43\n",
      "RBS               0.69      0.69      0.69        13\n",
      "JJR               0.88      0.78      0.82       165\n",
      "JJS               0.90      0.79      0.84        58\n",
      "VBN               0.89      0.80      0.84       737\n",
      "JJ                0.84      0.86      0.85      1924\n",
      "VBG               0.89      0.82      0.85       476\n",
      "VBP               0.85      0.88      0.87       460\n",
      "RB                0.90      0.84      0.87       951\n",
      "WDT               0.94      0.85      0.89       157\n",
      "NNS               0.98      0.83      0.90      2102\n",
      "NN                0.85      0.95      0.90      4513\n",
      "VB                0.95      0.87      0.91       956\n",
      "VBD               0.89      0.93      0.91       861\n",
      "NNP               0.91      0.93      0.92      2704\n",
      "VBZ               0.93      0.95      0.94       712\n",
      "CD                0.96      0.94      0.95      1249\n",
      "WRB               0.98      0.94      0.96        62\n",
      "EX                0.94      1.00      0.97        34\n",
      "IN                0.97      0.98      0.97      3275\n",
      "WP                0.96      1.00      0.98        80\n",
      "PRP$              0.99      0.98      0.99       258\n",
      "CC                0.99      0.98      0.99       758\n",
      "DT                0.99      0.99      0.99      2754\n",
      "MD                0.99      0.99      0.99       347\n",
      "POS               0.99      0.99      0.99       269\n",
      "PRP               0.99      0.99      0.99       570\n",
      "TO                1.00      1.00      1.00       765\n",
      "WP$               1.00      1.00      1.00         4\n"
     ]
    },
    {
     "data": {
      "image/png": "[encoded data removed]",
      "text/plain": [
       "<Figure size 432x288 with 1 Axes>"
      ]
     },
     "metadata": {
      "needs_background": "light"
     },
     "output_type": "display_data"
    }
   ],
   "source": [
    "# Report on validation set\n",
    "_, _, pred_tags, true_tags = validate(model2, val_loader, loss_function, final_vocab, train_tags)\n",
    "evaluate_classification(true_tags, pred_tags, metric_labels, metric_tags)"
   ]
  }
 ],
 "metadata": {
  "kernelspec": {
   "display_name": "base",
   "language": "python",
   "name": "python3"
  },
  "language_info": {
   "codemirror_mode": {
    "name": "ipython",
    "version": 3
   },
   "file_extension": ".py",
   "mimetype": "text/x-python",
   "name": "python",
   "nbconvert_exporter": "python",
   "pygments_lexer": "ipython3",
   "version": "3.9.12"
  }
 },
 "nbformat": 4,
 "nbformat_minor": 2
}
